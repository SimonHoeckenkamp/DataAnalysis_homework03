{
 "cells": [
  {
   "cell_type": "markdown",
   "metadata": {},
   "source": [
    "# Problem: Networks\n",
    "## Problem 2: Investigating a time-varying criminal network\n",
    "\n",
    "In this problem, you will study a time-varying criminal network that is repeatedly disturbed by police forces. The data for this problem can be found in the CAVIAR directory of the data archive.\n",
    "\n",
    "The CAVIAR investigation lasted two years and ran from 1994 to 1996. The operation brought together investigation units of the Montréal police and the Royal Canadian Mounted Police of Canada. During this two year period, 11 wiretap warrants, valid for a period of about two months each, were obtained (the 11 matrices contained in phase1.csv, phase2.csv, correspond to these eleven, two month wiretap phases).\n",
    "\n",
    "This case is interesting because, unlike other investigative strategies, the mandate of the CAVIAR project was to seize the drugs without arresting the perpetrators. During this period, imports of the trafficking network were hit by the police on eleven occasions. The arrests took place only at the end of the investigation. Monetary losses for traffickers were estimated at million dollars. Eleven seizures took place throughout the investigation. Some phases included no seizures, and others included multiple. The following summarizes the seizures: \n",
    "\n",
    "| phase | no. of seizures | value of seizures | type of seizures |\n",
    "| --- | --- | --- | --- |\n",
    "| Phase 4  | 1 seizure | $2,500,000 | 300 kg of marijuana |\n",
    "| Phase 6 | 3 seizures | $1,300,000 | 2 x 15 kg of marijuana + 1 x 2 kg of cocaine |\n",
    "| Phase 7 | 1 seizure | $3,500,000 | 401 kg of marijuana |\n",
    "| Phase 8 | 1 seizure | $360,000 | 9 kg of cocaine |\n",
    "| Phase 9 | 2 seizures | $4,300,000 | 2 kg of cocaine + 1 x 500 kg marijuana |\n",
    "| Phase 10 | 1 seizure | $18,700,000 | 2200 kg of marijuana |\n",
    "| Phase 11 | 2 seizures | $1,300,000 | 12 kg of cocaine + 11 kg of cocaine |\n",
    "\n",
    "This case offers a rare opportunity to study a criminal network in upheaval from police forces. This allows us to analyze changes in the network structure and to survey the reaction and adaptation of the participants while they were subjected to an increasing number of distressing constraints.\n",
    "\n",
    "The network consists of 110 (numbered) players. Players 1-82 are the traffickers. Players 83-110 are the non-traffickers (financial investors; accountants; owners of various importation businesses, etc.). Initially, the investigation targeted Daniel Serero, the alleged mastermind of a drug network in downtown Montréal, who attempted to import marijuana to Canada from Morocco, transiting through Spain. After the first seizure, happening in Phase 4, traffickers reoriented to cocaine import from Colombia, transiting through the United States. \n",
    "\n",
    "In the data files (phase1.csv, phase2.csv,...), you will find matrices that report the number of wiretapped correspondences between the above players in the network, where players are identified by their unique id. You will be analyzing this time-varying network, giving a rough sketch of its shape, its evolution and the role of the actors in it. \n",
    "\n",
    "Note that this code also renames the actors from integer identifiers to strings of the kind “n1\", “n2\" etc, to be more consistent with notation. It then creates networkx graphs from the matrices and stores them in the G dictionary by their phase number."
   ]
  },
  {
   "cell_type": "code",
   "execution_count": 52,
   "metadata": {},
   "outputs": [],
   "source": [
    "import pandas as pd\n",
    "import networkx as nx\n",
    "import numpy as np\n",
    "import matplotlib.pyplot as plt"
   ]
  },
  {
   "cell_type": "code",
   "execution_count": 53,
   "metadata": {},
   "outputs": [],
   "source": [
    "# import the data (download from the internet)\n",
    "phases = {}\n",
    "G = {}\n",
    "for i in range(1,12): \n",
    "    var_name = \"phase\" + str(i)\n",
    "    file_name = \"https://raw.githubusercontent.com/ragini30/Networks-Homework/main/\" + var_name + \".csv\"\n",
    "    phases[i] = pd.read_csv(file_name, index_col = [\"players\"])\n",
    "    phases[i].columns = \"n\" + phases[i].columns\n",
    "    phases[i].index = phases[i].columns\n",
    "    G[i] = nx.from_pandas_adjacency(phases[i])\n",
    "    G[i].name = var_name"
   ]
  },
  {
   "cell_type": "markdown",
   "metadata": {},
   "source": [
    "### Part (a) Question 1\n",
    "\n",
    " What is the size of the network at each phase? Plot the evolution of the number of node and number of edges over time, from phase 1 to 11.\n",
    "\n",
    "Provide the number of nodes and edges for the three phases listed below:"
   ]
  },
  {
   "cell_type": "code",
   "execution_count": 54,
   "metadata": {},
   "outputs": [
    {
     "name": "stdout",
     "output_type": "stream",
     "text": [
      "phase 2: no. of nodes: 24, no. of edges: 28\n",
      "phase 6: no. of nodes: 27, no. of edges: 47\n",
      "phase 10: no. of nodes: 42, no. of edges: 50\n"
     ]
    },
    {
     "data": {
      "text/plain": [
       "array([15., 24., 33., 33., 32., 27., 36., 42., 34., 42., 41.])"
      ]
     },
     "execution_count": 54,
     "metadata": {},
     "output_type": "execute_result"
    },
    {
     "data": {
      "image/png": "[encoded data removed]",
      "text/plain": [
       "<Figure size 432x288 with 1 Axes>"
      ]
     },
     "metadata": {
      "needs_background": "light"
     },
     "output_type": "display_data"
    }
   ],
   "source": [
    "phases_q1 = [2,6,10]\n",
    "\n",
    "for i in phases_q1:\n",
    "    print(\"phase {}: no. of nodes: {}, no. of edges: {}\".format(i, len(G[i].nodes), len(G[i].edges)))\n",
    "\n",
    "no_nodes = np.empty([11,])\n",
    "no_edges = np.empty([11,])\n",
    "\n",
    "for i in range(len(G)):\n",
    "    no_nodes[i] = len(G[i+1].nodes)\n",
    "    no_edges[i] = len(G[i+1].edges)\n",
    "\n",
    "plt.plot(np.arange(1,12), no_nodes, label=\"no. of nodes\")\n",
    "plt.plot(np.arange(1,12), no_edges, label=\"no. of edges\")\n",
    "plt.legend()\n",
    "plt.xlabel(\"Phase\")\n",
    "plt.ylabel(\"Count\")\n",
    "plt.savefig(\"../03_report/problem_02/nodes_edges.png\", dpi=300)\n",
    "\n",
    "no_nodes"
   ]
  },
  {
   "cell_type": "markdown",
   "metadata": {},
   "source": [
    "### Part (a) Question 2\n",
    "\n",
    "Try visualizing the graph at each phase. For **networkx** you can use\n",
    "\n",
    "*nx.draw(g, pos=nx.drawing.nx_agraph.graphviz_layout(g), with_labels=True)*\n",
    "\n",
    "where the *graphviz* layout algorithm graphviz_layout has been used.\n",
    "\n",
    "The graphviz algorithm is recommended for these complex graphs, and you will need it to answer some of these questions. You can install it on Ubuntu using \n",
    "\n",
    "*sudo apt-get install graphviz graphviz-dev\n",
    "pip install pygraphviz*\n",
    "\n",
    "or you can install it on Google Colab by running the following in its own cell: \n",
    "\n",
    "*!apt-get install graphviz graphviz-dev\n",
    "!pip install pygraphviz*\n",
    "\n",
    "Visualize the graph for **Phase 3**. Which of the following plots below correspond to **Phase 3**?\n",
    "\n",
    "![networks](https://courses.edx.org/assets/courseware/v1/047e5f3adc46d784c2ea67762bf0d94f/asset-v1:MITx+6.419x+3T2021+type@asset+block/images_networks_hw_visualization.svg)"
   ]
  },
  {
   "cell_type": "code",
   "execution_count": 55,
   "metadata": {},
   "outputs": [],
   "source": [
    "#TODO: make this visualization tool working!!!\n",
    "#answer can be found by looking at the raw data: edge between n4 and n5\n",
    "#nx.draw(G[3],pos=nx.drawing.nx_agraph.graphviz_layout(G[3]), with_labels=True)"
   ]
  },
  {
   "cell_type": "markdown",
   "metadata": {},
   "source": [
    "### Part (b) Question 1\n",
    "\n",
    "For each of the 11 phases and for each of the players under investigation **(i.e., the 23 listed above)**, compute and list the normalized degree centrality of the player.\n",
    "\n",
    "The normalized degree centrality of node $i$ is defined as\n",
    "  \t\n",
    "$\\tilde{k}_i = \\frac{k_i}{n-1}$\t  \t \n",
    "\n",
    "where $k_i$ is the degree of node $i$ and $n$ is the number of nodes in the graph.\n",
    "\n",
    "You can compute the normalized degree centrality using the **networkx** function *networkx.degree_centrality*.\n",
    "\n",
    "Provide the degree centrality for the following four players, at the specified phases: (Provide your answer to **three significant figures**, answer graded to 1% tolerance.) "
   ]
  },
  {
   "cell_type": "code",
   "execution_count": 56,
   "metadata": {},
   "outputs": [
    {
     "name": "stdout",
     "output_type": "stream",
     "text": [
      "player n1 - phase 3: 0.844\n",
      "player n1 - phase 9: 0.303\n",
      "player n3 - phase 3: 0.281\n",
      "player n3 - phase 9: 0.333\n",
      "player n12 - phase 3: 0.0625\n",
      "player n12 - phase 9: 0.242\n",
      "player n83 - phase 3: 0.25\n",
      "player n83 - phase 9: 0.0303\n"
     ]
    }
   ],
   "source": [
    "# answer for the question\n",
    "players = [\"n1\",\"n3\",\"n12\",\"n83\"]\n",
    "phases_q2 = [3, 9]\n",
    "for i in players:\n",
    "    for j in phases_q2:\n",
    "        print(\"player \" + i +\" - phase {}: {:.3}\".format(j, nx.algorithms.centrality.degree_centrality(G[j])[i]))\n",
    "\n",
    "#answer for the task (needs to be modified for the 23 target persons under investigation)\n",
    "centrality = np.zeros((110, 11))\n",
    "for i in range(centrality.shape[0]):\n",
    "    for j in range(centrality.shape[1]):\n",
    "        current_player = \"n{}\".format(i+1)\n",
    "        if current_player in G[j+1].nodes:\n",
    "            centrality[i,j] = nx.algorithms.centrality.degree_centrality(G[j+1])[current_player]"
   ]
  },
  {
   "cell_type": "markdown",
   "metadata": {},
   "source": [
    "### Part (b) Question 2\n",
    "For each of the 11 phases and for each of the players under investigation, compute and list the normalized betweenness centrality of the player.\n",
    "\n",
    "For undirected graphs, the normalized betweenness centrality for node $i$ is defined as\n",
    "\n",
    "$\\tilde{B}_i=\\frac{2}{(n-1)(n-2)}\\sum_{n \\neq i \\neq t}\\frac{n^i_{st}}{g_{st}}$,\n",
    "\n",
    "where $n^i_{st} is the number of shortest paths between $s$ and $t$ that pass through $i$ and $g_{st} is the total number of shortest paths between $s$ and $t$. Note that this considers both orderings of each pair of nodes, so for undirected graphs, a path counts twice (as it counts both for $n^i_{st}$ and for $n^i_{ts}$).\n",
    "\n",
    "You can compute the normalized betweenness centrality using the **networkx** function \n",
    "*networkx.betweenness_centrality(graph, normalized = True)*\n",
    "\n",
    "Provide the normalized betweenness centrality for the following four players, at the specified phases: (Provide your answer to **three significant figures**, answer graded to 1% tolerance.) "
   ]
  },
  {
   "cell_type": "code",
   "execution_count": 57,
   "metadata": {},
   "outputs": [
    {
     "name": "stdout",
     "output_type": "stream",
     "text": [
      "player n1 - phase 3: 0.83\n",
      "player n1 - phase 9: 0.249\n",
      "player n3 - phase 3: 0.0955\n",
      "player n3 - phase 9: 0.576\n",
      "player n12 - phase 3: 0.0\n",
      "player n12 - phase 9: 0.357\n",
      "player n83 - phase 3: 0.0466\n",
      "player n83 - phase 9: 0.0\n"
     ]
    }
   ],
   "source": [
    "for i in players:\n",
    "    for j in phases_q2:\n",
    "        print(\"player \" + i +\" - phase {}: {:.3}\".format(j, nx.algorithms.centrality.betweenness_centrality(G[j])[i]))\n",
    "\n",
    "betweenness = np.zeros((110,11))\n",
    "for i in range(betweenness.shape[0]):\n",
    "    for j in range(betweenness.shape[1]):\n",
    "        current_player = \"n{}\".format(i+1)\n",
    "        if current_player in G[j+1].nodes:\n",
    "            betweenness[i,j] = nx.algorithms.centrality.betweenness_centrality(G[j+1])[current_player]"
   ]
  },
  {
   "cell_type": "markdown",
   "metadata": {},
   "source": [
    "### Part (b) Question 3\n",
    "\n",
    "For each of the 11 phases and for each of the players under investigation, compute and list the eigenvector centrality of the player.\n",
    "\n",
    "Ensure your eigenvector centrality is normalized as\n",
    "\n",
    "$\\sqrt{\\sum_i v^2_i} = 1$\n",
    "\n",
    "You can compute the eigenvector centrality with this normalization using the **networkx** function *networkx.eigenvector_centrality*.\n",
    "\n",
    "Provide the eigenvector centrality for the following four players, at the specified phases: (Provide your answer to **three significant figures**, answer graded to 1% tolerance.) "
   ]
  },
  {
   "cell_type": "code",
   "execution_count": 58,
   "metadata": {},
   "outputs": [
    {
     "name": "stdout",
     "output_type": "stream",
     "text": [
      "player n1 - phase 3: 0.594\n",
      "player n1 - phase 9: 0.459\n",
      "player n3 - phase 3: 0.291\n",
      "player n3 - phase 9: 0.468\n",
      "player n12 - phase 3: 0.136\n",
      "player n12 - phase 9: 0.141\n",
      "player n83 - phase 3: 0.277\n",
      "player n83 - phase 9: 0.0918\n"
     ]
    }
   ],
   "source": [
    "for i in players:\n",
    "    for j in phases_q2:\n",
    "        print(\"player \" + i +\" - phase {}: {:.3}\".format(j, nx.algorithms.centrality.eigenvector_centrality(G[j])[i]))\n",
    "\n",
    "eigenvector_centrality = np.zeros((110,11))\n",
    "for i in range(eigenvector_centrality.shape[0]):\n",
    "    for j in range(eigenvector_centrality.shape[1]):\n",
    "        current_player = \"n{}\".format(i+1)\n",
    "        if current_player in G[j+1].nodes:\n",
    "            eigenvector_centrality[i,j] = nx.algorithms.centrality.eigenvector_centrality(G[j+1])[current_player]"
   ]
  },
  {
   "cell_type": "markdown",
   "metadata": {},
   "source": [
    "### Part (b) Question 4\n",
    "\n",
    "Recall the mathematical definition of each of these metrics, along with the algorithm that is best suited to compute it and the corresponding time complexity.\n",
    "\n",
    "Which algorithm is the fastest for this data set? \n",
    "\n",
    "Answer: From all of the three centrality measures, the normalized degree centrality is the fastest algorithm and the best suited for this network.  "
   ]
  },
  {
   "cell_type": "markdown",
   "metadata": {},
   "source": [
    "### Part (b) Question 5\n",
    "\n",
    "The data from questions 1 to 3 can be used to perform different types of quantitative analyses. In this question we will look at performing one such analysis - we will determine the *temporal consistency* of a player's centrality , i.e. which players consistently remained active and central throughout most of the phases and which didn't?\n",
    "\n",
    "To answer this question, look at the temporal evolution of the networks and calculate the mean centrality for each of the centrality metrics, across all phases, for every player.\n",
    "\n",
    "Note: As every actor might not be present in every phase, attach a centrality of zero (0) to an actor for the phases in which they are not present, *before* calculating these statistics, so that you take a mean over all 11 phases for all actors. (**Food for thought**, **not graded**: What are the implications of this step? What else could you do to ensure that your numbers are comparable with each other?)\n",
    "\n",
    "For the betweenness centrality, which three players have the highest mean? (Enter an integer, eg: *1* for **n1**, *2* for **n2**, etc.)"
   ]
  },
  {
   "cell_type": "code",
   "execution_count": 59,
   "metadata": {},
   "outputs": [
    {
     "name": "stdout",
     "output_type": "stream",
     "text": [
      "[ 3 12  1]\n",
      "[0.12940286 0.16756212 0.65505099]\n"
     ]
    }
   ],
   "source": [
    "# betweenness centrality, order ascending\n",
    "print(np.argsort(np.mean(betweenness,axis=1))[-3:]+1)\n",
    "print(np.mean(betweenness,axis=1)[np.argsort(np.mean(betweenness,axis=1))[-3:]])"
   ]
  },
  {
   "cell_type": "code",
   "execution_count": 60,
   "metadata": {},
   "outputs": [
    {
     "name": "stdout",
     "output_type": "stream",
     "text": [
      "[85  3  1]\n",
      "[0.19061182 0.29809466 0.54639108]\n"
     ]
    }
   ],
   "source": [
    "# eigenvector centrality, order ascending\n",
    "print(np.argsort(np.mean(eigenvector_centrality,axis=1))[-3:]+1)\n",
    "print(np.mean(eigenvector_centrality,axis=1)[np.argsort(np.mean(eigenvector_centrality,axis=1))[-3:]])"
   ]
  },
  {
   "cell_type": "markdown",
   "metadata": {},
   "source": [
    "In the following lines there are just some code snippets for other problems or questions in the report."
   ]
  },
  {
   "cell_type": "code",
   "execution_count": 61,
   "metadata": {},
   "outputs": [
    {
     "data": {
      "text/plain": [
       "array([85, 31, 83, 12,  1], dtype=int64)"
      ]
     },
     "execution_count": 61,
     "metadata": {},
     "output_type": "execute_result"
    }
   ],
   "source": [
    "#np.sort(betweenness[:,4])[-5:]\n",
    "np.argsort(betweenness[:,4])[-5:]+1"
   ]
  },
  {
   "cell_type": "code",
   "execution_count": 113,
   "metadata": {},
   "outputs": [],
   "source": [
    "# development of the network over phases\n",
    "for i in range(len(G)):\n",
    "    # Up to here we use an undorected network (template from problem), therefore arrows misleading\n",
    "    #nx.draw(G[i + 1], node_size=20,label=\"phase{}\".format(i + 1), arrows=True, width=0.5, alpha=0.7)\n",
    "    nx.draw(G[i + 1], node_size=30,label=\"phase{}\".format(i + 1), width=0.7, alpha=0.7)\n",
    "    plt.savefig(\"../03_report/problem_02/network_phase{}.png\".format(i + 1), dpi=300)\n",
    "    plt.close()"
   ]
  },
  {
   "cell_type": "code",
   "execution_count": 112,
   "metadata": {},
   "outputs": [],
   "source": [
    "# visualization of networks (specific phases, with labels)\n",
    "spec_phases = [3,4,5,8,9,10]\n",
    "\n",
    "for i in spec_phases:\n",
    "    #nx.draw(G[i], node_size=20,label=\"phase{}\".format(i), arrows=True, width=0.5, alpha=1, with_labels=True)\n",
    "    nx.draw(G[i], node_size=20,label=\"phase{}\".format(i), width=0.5, alpha=1, with_labels=True)\n",
    "    plt.savefig(\"../03_report/problem_02/network_labels_phase{}.png\".format(i), dpi=300)\n",
    "    plt.close()\n"
   ]
  },
  {
   "cell_type": "code",
   "execution_count": 65,
   "metadata": {},
   "outputs": [
    {
     "data": {
      "text/plain": [
       "[13, 31, 22, 9, 7, 37, 79, 14, 41]"
      ]
     },
     "execution_count": 65,
     "metadata": {},
     "output_type": "execute_result"
    }
   ],
   "source": [
    "most_centrality = np.argsort(np.mean(betweenness,axis=1))[-23:]+1\n",
    "most_wanted = np.array([1,3,83,86,85,6,11,88,106,89,84,5,8,76,77,87,82,96,12,17,80,33,16])\n",
    "# compare arrays\n",
    "not_equals = []\n",
    "for person_central in most_centrality:\n",
    "    if not person_central in most_wanted:\n",
    "        not_equals.append(person_central)\n",
    "not_equals"
   ]
  },
  {
   "cell_type": "code",
   "execution_count": 64,
   "metadata": {},
   "outputs": [
    {
     "data": {
      "text/plain": [
       "<function matplotlib.pyplot.show(close=None, block=None)>"
      ]
     },
     "execution_count": 64,
     "metadata": {},
     "output_type": "execute_result"
    },
    {
     "data": {
      "image/png": "[encoded data removed]",
      "text/plain": [
       "<Figure size 432x288 with 1 Axes>"
      ]
     },
     "metadata": {
      "needs_background": "light"
     },
     "output_type": "display_data"
    }
   ],
   "source": [
    "# plot the betweenness of node no. 1\n",
    "plt.plot(range(1,12), betweenness[0,:], label=\"node no.1\")\n",
    "plt.plot(range(1,12), betweenness[89-1,:], label=\"node no.89\")\n",
    "plt.plot(range(1,12), betweenness[12-1,:], label=\"node no.12\")\n",
    "plt.legend()\n",
    "plt.xlabel(\"phase\")\n",
    "plt.ylabel(\"Betweenness centrality\")\n",
    "plt.savefig(\"../03_report/problem_02/betweenness_specific_nodes.png\", dpi=300)\n",
    "\n",
    "plt.show"
   ]
  },
  {
   "cell_type": "code",
   "execution_count": 103,
   "metadata": {},
   "outputs": [],
   "source": [
    "# calculate new networks (directed!)\n",
    "G_dir = {}\n",
    "for i in range(1,12): \n",
    "    var_name = \"phase\" + str(i)\n",
    "    file_name = \"https://raw.githubusercontent.com/ragini30/Networks-Homework/main/\" + var_name + \".csv\"\n",
    "    phases[i] = pd.read_csv(file_name, index_col = [\"players\"])\n",
    "    phases[i].columns = \"n\" + phases[i].columns\n",
    "    phases[i].index = phases[i].columns\n",
    "    G_dir[i] = nx.from_pandas_adjacency(phases[i], create_using=nx.DiGraph())\n",
    "    G_dir[i].name = var_name"
   ]
  },
  {
   "cell_type": "code",
   "execution_count": 104,
   "metadata": {},
   "outputs": [],
   "source": [
    "# Calculate the hub and authority centrality for each node\n",
    "hubs = np.zeros((110,11))\n",
    "authorities = np.zeros_like(hubs)\n",
    "\n",
    "for i in range(1, len(G_dir) + 1):\n",
    "    hubs_i, authorities_i = nx.algorithms.link_analysis.hits(G_dir[i], max_iter=1000000)\n",
    "    for hub_i in hubs_i:\n",
    "        hubs[int(hub_i[1:]) - 1, i - 1] = hubs_i[hub_i]\n",
    "    for auth_i in authorities_i:\n",
    "        authorities[int(auth_i[1:]) - 1, i - 1] = authorities_i[auth_i]"
   ]
  },
  {
   "cell_type": "code",
   "execution_count": 110,
   "metadata": {},
   "outputs": [
    {
     "data": {
      "image/png": "[encoded data removed]",
      "text/plain": [
       "<Figure size 432x288 with 1 Axes>"
      ]
     },
     "metadata": {
      "needs_background": "light"
     },
     "output_type": "display_data"
    }
   ],
   "source": [
    "# plot the values for node no. 1 and no. 3\n",
    "plt.plot(np.arange(1,12), hubs[1 - 1, :], \"r\", label=\"hub centrality, no.1\")\n",
    "plt.plot(np.arange(1,12), hubs[3 - 1, :], \"b\", label=\"hub centrality, no.3\")\n",
    "plt.plot(np.arange(1,12), authorities[1 - 1, :], \"r--\", label=\"authority centrality, no.1\")\n",
    "plt.plot(np.arange(1,12), authorities[3 - 1, :], \"b--\", label=\"authority centrality, no.3\")\n",
    "\n",
    "plt.xlabel(\"phase\")\n",
    "plt.ylabel(\"centrality\")\n",
    "\n",
    "plt.legend()\n",
    "plt.show\n",
    "\n",
    "plt.savefig(\"../03_report/problem_02/hubs_authorities.png\", dpi=300)"
   ]
  },
  {
   "cell_type": "code",
   "execution_count": 77,
   "metadata": {},
   "outputs": [
    {
     "data": {
      "text/plain": [
       "{'n1': 0.09741025051739848,\n",
       " 'n4': 0.012471775061522946,\n",
       " 'n89': 0.013346937859537758,\n",
       " 'n83': 0.1731392130959347,\n",
       " 'n3': 0.037792978748068425,\n",
       " 'n5': 0.02494355012304589,\n",
       " 'n88': 0.10035989706312377,\n",
       " 'n85': 0.19883807034597975,\n",
       " 'n90': 0.012471775061522946,\n",
       " 'n2': 0.02494355012304589,\n",
       " 'n7': 0.003417710268891016,\n",
       " 'n54': 0.02494355012304589,\n",
       " 'n6': 0.25097719148583664,\n",
       " 'n64': 0.012471775061522946,\n",
       " 'n8': 0.012471775061522946}"
      ]
     },
     "execution_count": 77,
     "metadata": {},
     "output_type": "execute_result"
    }
   ],
   "source": [
    "a, b = nx.algorithms.link_analysis.hits(G[1], max_iter=1000000)\n",
    "b"
   ]
  },
  {
   "cell_type": "code",
   "execution_count": null,
   "metadata": {},
   "outputs": [],
   "source": []
  }
 ],
 "metadata": {
  "interpreter": {
   "hash": "a1358dd76780d095825359a29754cdf9ec92f055ea13f5a23375bfaaabb1e58e"
  },
  "kernelspec": {
   "display_name": "Python 3.7.11 64-bit ('base': conda)",
   "name": "python3"
  },
  "language_info": {
   "codemirror_mode": {
    "name": "ipython",
    "version": 3
   },
   "file_extension": ".py",
   "mimetype": "text/x-python",
   "name": "python",
   "nbconvert_exporter": "python",
   "pygments_lexer": "ipython3",
   "version": "3.7.11"
  },
  "orig_nbformat": 4
 },
 "nbformat": 4,
 "nbformat_minor": 2
}
