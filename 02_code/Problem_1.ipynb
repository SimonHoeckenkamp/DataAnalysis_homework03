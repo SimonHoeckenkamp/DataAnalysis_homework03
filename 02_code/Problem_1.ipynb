{
 "cells": [
  {
   "cell_type": "markdown",
   "metadata": {},
   "source": [
    "# Problem: Networks\n",
    "## Problem 1: Suggesting Similar Papers\n",
    "\n",
    "A citation network is a directed network where the vertices are academic papers and there is a directed edge from paper $A$ to paper $B$ if paper $A$ cites paper $B$ in its bibliography. Google Scholar performs automated citation indexing and has a useful feature that allows users to find similar papers. In the following, we analyze two approaches for measuring similarity between papers. \n",
    "\n",
    "Following code snippets are part of questions a and b. Questions c and d are answered in the report.\n"
   ]
  },
  {
   "cell_type": "code",
   "execution_count": 1,
   "metadata": {},
   "outputs": [],
   "source": [
    "import numpy as np"
   ]
  },
  {
   "cell_type": "code",
   "execution_count": 2,
   "metadata": {},
   "outputs": [],
   "source": [
    "# define the adjacency matrix A\n",
    "A = np.array([\n",
    "    [0,0,0,1],\n",
    "    [1,0,1,1],\n",
    "    [0,1,0,0],\n",
    "    [0,0,1,0]\n",
    "])"
   ]
  },
  {
   "cell_type": "code",
   "execution_count": 6,
   "metadata": {},
   "outputs": [],
   "source": [
    "# (weighted) cocitation matrix C\n",
    "C = A.T.dot(A)\n",
    "\n",
    "# (weighted) bibliographic coupling matrix\n",
    "B = A.dot(A.T)"
   ]
  },
  {
   "cell_type": "code",
   "execution_count": 7,
   "metadata": {},
   "outputs": [
    {
     "data": {
      "text/plain": [
       "array([[1, 0, 1, 1],\n",
       "       [0, 1, 0, 0],\n",
       "       [1, 0, 2, 1],\n",
       "       [1, 0, 1, 2]])"
      ]
     },
     "execution_count": 7,
     "metadata": {},
     "output_type": "execute_result"
    }
   ],
   "source": [
    "C"
   ]
  },
  {
   "cell_type": "code",
   "execution_count": null,
   "metadata": {},
   "outputs": [],
   "source": []
  }
 ],
 "metadata": {
  "interpreter": {
   "hash": "a1358dd76780d095825359a29754cdf9ec92f055ea13f5a23375bfaaabb1e58e"
  },
  "kernelspec": {
   "display_name": "Python 3.7.11 64-bit ('base': conda)",
   "name": "python3"
  },
  "language_info": {
   "codemirror_mode": {
    "name": "ipython",
    "version": 3
   },
   "file_extension": ".py",
   "mimetype": "text/x-python",
   "name": "python",
   "nbconvert_exporter": "python",
   "pygments_lexer": "ipython3",
   "version": "3.7.11"
  },
  "orig_nbformat": 4
 },
 "nbformat": 4,
 "nbformat_minor": 2
}
